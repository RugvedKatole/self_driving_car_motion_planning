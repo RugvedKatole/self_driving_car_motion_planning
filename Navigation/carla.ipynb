{
 "cells": [
  {
   "cell_type": "code",
   "execution_count": 15,
   "metadata": {},
   "outputs": [
    {
     "name": "stdout",
     "output_type": "stream",
     "text": [
      "World(id=13719783247517638853)\n"
     ]
    }
   ],
   "source": [
    "import carla\n",
    "import sys\n",
    "import glob\n",
    "import os\n",
    "from Utils.Util_functions import distance\n",
    "sys.path.append(\"../../carla9.13/PythonAPI/carla/\")\n",
    "# sys.path.append(glob.glob(\"/Navigation/Utils*\"))\n",
    "# from agents.navigation.behavior_agent import BehaviorAgent\n",
    "from Controller import VehiclePIDController\n",
    "# print(client.get_available_maps())\n",
    "client = carla.Client(\"localhost\",2000)\n",
    "client.set_timeout(20.0)\n",
    "world = client.get_world()\n",
    "print(world)\n",
    "world = client.load_world('Town06')\n",
    "vehicle_blueprints = world.get_blueprint_library().filter(\"cybertruck\")\n",
    "spawn_points = world.get_map().get_spawn_points()\n",
    "ego_vehicle = world.spawn_actor(vehicle_blueprints[0],spawn_points[196])     #SPWAN POINTS TO BE CONSIDERED  60,61,62,63. #195 +ve x\n",
    "ego_vehicle.set_transform(world.get_map().get_waypoint(ego_vehicle.get_location()).next(75)[0].transform)\n",
    "spectator = world.get_spectator()\n",
    "transform = ego_vehicle.get_transform()\n",
    "spectator.set_transform(carla.Transform(transform.location + carla.Location(x=5,y=0,z=3),\n",
    "carla.Rotation(pitch=-20,yaw = 0)))"
   ]
  },
  {
   "cell_type": "code",
   "execution_count": 10,
   "metadata": {},
   "outputs": [
    {
     "name": "stdout",
     "output_type": "stream",
     "text": [
      "Waypoint(Transform(Location(x=366.216278, y=144.429977, z=0.000000), Rotation(pitch=0.000000, yaw=0.234757, roll=0.000000)))\n",
      "Vector3D(x=-0.004097, y=0.999992, z=-0.000000)\n",
      "49.99957978725433\n",
      "-161.7935333251953\n"
     ]
    }
   ],
   "source": [
    "from Utils.misc import get_speed\n",
    "map = world.get_map()\n",
    "current_waypoint = map.get_waypoint(carla.Location(ego_vehicle.get_transform().get_forward_vector()*get_speed(ego_vehicle)/3.6) + ego_vehicle.get_location())\n",
    "print(current_waypoint)\n",
    "b = ego_vehicle.get_location()\n",
    "a = carla.Vector3D(x=455.2796, y=-17, z = 0)\n",
    "c = ego_vehicle.get_transform().get_right_vector()\n",
    "print(c)\n",
    "print(50*c.y)\n",
    "print((a-b).dot(c))"
   ]
  },
  {
   "cell_type": "code",
   "execution_count": 22,
   "metadata": {},
   "outputs": [
    {
     "name": "stdout",
     "output_type": "stream",
     "text": [
      "0.125\n",
      "0.125\n"
     ]
    },
    {
     "data": {
      "image/png": "[encoded data removed]",
      "text/plain": [
       "<Figure size 432x288 with 1 Axes>"
      ]
     },
     "metadata": {
      "needs_background": "light"
     },
     "output_type": "display_data"
    }
   ],
   "source": [
    "e_wpt = world.get_map().get_waypoint(ego_vehicle.get_location())\n",
    "\n",
    "# print(e_wpt.left_lane_marking - e_wpt.right_lane_marking)\n",
    "x=[]\n",
    "y=[]\n",
    "for i in range(180):\n",
    "    x.append(e_wpt.next(1)[0].transform.location.x)\n",
    "    y.append(e_wpt.next(1)[0].transform.location.y)\n",
    "    e_wpt = e_wpt.next(1)[0]\n",
    "import matplotlib.pyplot as plt\n",
    "\n",
    "plt.plot(x,y)\n",
    "plt.show()\n"
   ]
  },
  {
   "cell_type": "code",
   "execution_count": 26,
   "metadata": {},
   "outputs": [
    {
     "name": "stdout",
     "output_type": "stream",
     "text": [
      "nigga\n"
     ]
    }
   ],
   "source": []
  },
  {
   "cell_type": "code",
   "execution_count": 6,
   "metadata": {},
   "outputs": [],
   "source": [
    "control = carla.VehicleControl(throttle = 0.3)\n",
    "ego_vehicle.apply_control(control)"
   ]
  },
  {
   "cell_type": "code",
   "execution_count": 16,
   "metadata": {},
   "outputs": [
    {
     "name": "stdout",
     "output_type": "stream",
     "text": [
      "Waypoint(Transform(Location(x=533.651978, y=-17.373524, z=0.000000), Rotation(pitch=0.000000, yaw=-179.874878, roll=0.000000)))\n",
      "-20.873516082763672\n"
     ]
    }
   ],
   "source": [
    "map = world.get_map()\n",
    "e_wpt = map.get_waypoint(ego_vehicle.get_location())\n",
    "print(e_wpt)\n",
    "print(e_wpt.get_right_lane().transform.location.y)\n"
   ]
  },
  {
   "cell_type": "code",
   "execution_count": 3,
   "metadata": {},
   "outputs": [
    {
     "data": {
      "text/plain": [
       "True"
      ]
     },
     "execution_count": 3,
     "metadata": {},
     "output_type": "execute_result"
    }
   ],
   "source": [
    "ego_vehicle.destroy()"
   ]
  }
 ],
 "metadata": {
  "kernelspec": {
   "display_name": "Python 3.8.10 64-bit",
   "language": "python",
   "name": "python3"
  },
  "language_info": {
   "codemirror_mode": {
    "name": "ipython",
    "version": 3
   },
   "file_extension": ".py",
   "mimetype": "text/x-python",
   "name": "python",
   "nbconvert_exporter": "python",
   "pygments_lexer": "ipython3",
   "version": "3.8.10"
  },
  "orig_nbformat": 4,
  "vscode": {
   "interpreter": {
    "hash": "916dbcbb3f70747c44a77c7bcd40155683ae19c65e1c03b4aa3499c5328201f1"
   }
  }
 },
 "nbformat": 4,
 "nbformat_minor": 2
}
